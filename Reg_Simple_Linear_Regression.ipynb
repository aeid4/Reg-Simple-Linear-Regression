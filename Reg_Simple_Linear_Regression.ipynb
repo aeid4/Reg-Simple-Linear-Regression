{
  "nbformat": 4,
  "nbformat_minor": 0,
  "metadata": {
    "colab": {
      "provenance": []
    },
    "kernelspec": {
      "name": "python3",
      "display_name": "Python 3"
    }
  },
  "cells": [
    {
      "cell_type": "markdown",
      "metadata": {
        "id": "5yX59CXd7KZ3"
      },
      "source": [
        "Abdulrahman Mahmoud Eid"
      ]
    },
    {
      "cell_type": "code",
      "metadata": {
        "id": "gaPLZW4z9GEa"
      },
      "source": [],
      "execution_count": null,
      "outputs": []
    },
    {
      "cell_type": "markdown",
      "metadata": {
        "id": "irh7ozva7HDu"
      },
      "source": [
        " Polynomial Regression "
      ]
    },
    {
      "cell_type": "code",
      "metadata": {
        "id": "1PJiFn7M6ui5",
        "colab": {
          "base_uri": "https://localhost:8080/",
          "height": 265
        },
        "outputId": "1c9e29b9-de9d-4aa2-b3db-5e21e6cb20e3"
      },
      "source": [
        "# Plot Data \n",
        "import matplotlib. pyplot as plt \n",
        "x = [1,2,3,5,6,7,8,9,10,12,13,14,15,16,18,19,21,22]\n",
        "y = [100,90,80,60,60,55,60,65,70,70,75,76,78,79,90,99,99,100] \n",
        "plt.scatter(x,y)\n",
        "plt.show()"
      ],
      "execution_count": null,
      "outputs": [
        {
          "output_type": "display_data",
          "data": {
            "image/png": "[encoded data removed]",
            "text/plain": [
              "<Figure size 432x288 with 1 Axes>"
            ]
          },
          "metadata": {
            "tags": [],
            "needs_background": "light"
          }
        }
      ]
    },
    {
      "cell_type": "code",
      "metadata": {
        "id": "h84sZrho7Fxp",
        "colab": {
          "base_uri": "https://localhost:8080/",
          "height": 265
        },
        "outputId": "da6ce297-4d0d-4919-96eb-9323859fc0e8"
      },
      "source": [
        "# Polynomial Regression from Numpy\n",
        "import numpy\n",
        "import matplotlib.pyplot as plt\n",
        "\n",
        "mymodel = numpy.poly1d(numpy.polyfit(x, y, 3))\n",
        "myline = numpy.linspace(1,22,100)\n",
        "plt. scatter(x, y)\n",
        "plt.plot(myline, mymodel(myline))\n",
        "plt.show( )"
      ],
      "execution_count": null,
      "outputs": [
        {
          "output_type": "display_data",
          "data": {
            "image/png": "[encoded data removed]",
            "text/plain": [
              "<Figure size 432x288 with 1 Axes>"
            ]
          },
          "metadata": {
            "tags": [],
            "needs_background": "light"
          }
        }
      ]
    },
    {
      "cell_type": "code",
      "metadata": {
        "id": "dcHbCjlsIBsD",
        "colab": {
          "base_uri": "https://localhost:8080/",
          "height": 34
        },
        "outputId": "9560dd73-cf15-4d05-81af-db13ee72c917"
      },
      "source": [
        " #Prediction\n",
        " speed= mymodel(17)\n",
        " print(speed)"
      ],
      "execution_count": null,
      "outputs": [
        {
          "output_type": "stream",
          "text": [
            "88.87331269697991\n"
          ],
          "name": "stdout"
        }
      ]
    },
    {
      "cell_type": "markdown",
      "metadata": {
        "id": "uzWp44iUbUpf"
      },
      "source": [
        "Linear Regression"
      ]
    },
    {
      "cell_type": "code",
      "metadata": {
        "id": "tr2ee51YMK-p",
        "colab": {
          "base_uri": "https://localhost:8080/",
          "height": 473
        },
        "outputId": "d0ec153a-9c03-4f37-9e66-e1e475512ab2"
      },
      "source": [
        "# Connect Dataset\n",
        "import numpy as np\n",
        "import pandas as pd\n",
        "DataSet1= pd.read_csv('/content/P12-SalaryData.csv' ) \n",
        "DataSet1.head( )"
      ],
      "execution_count": null,
      "outputs": [
        {
          "output_type": "execute_result",
          "data": {
            "text/plain": [
              "             StartTime             LastTime         SrcAddr      DstAddr  \\\n",
              "0  2019-08-19 12:23:28  2019-08-19 12:23:28    192.168.0.20  192.168.0.2   \n",
              "1  2019-08-19 15:13:24  2019-08-19 15:13:24    192.168.0.20  192.168.0.2   \n",
              "2  2019-08-19 13:41:31  2019-08-19 13:41:31    192.168.0.20  192.168.0.2   \n",
              "3  2019-08-19 12:43:19  2019-08-19 12:43:20  209.240.235.92  192.168.0.2   \n",
              "4  2019-08-19 14:49:44  2019-08-19 14:49:48    192.168.0.20  192.168.0.1   \n",
              "\n",
              "   Mean  Sport  Dport  SrcPkts  DstPkts  TotPkts  ...  SAppBytes  DAppBytes  \\\n",
              "0     0  59034    502       10        8       18  ...         24         20   \n",
              "1     0  55841    502       10        8       18  ...         24         20   \n",
              "2     0  63774    502       10        8       18  ...         24         20   \n",
              "3     0  61771     80        4        0        4  ...          0          0   \n",
              "4     3      0      0       14        0       14  ...        476          0   \n",
              "\n",
              "   TotAppByte    SynAck   RunTime  sTos   SrcJitAct  DstJitAct  Traffic  \\\n",
              "0          44  0.001176  0.053037     0    0.000000        0.0   normal   \n",
              "1          44  0.001308  0.052681     0    0.000000        0.0   normal   \n",
              "2          44  0.000690  0.051793     0    0.000000        0.0   normal   \n",
              "3           0  0.000000  0.889555     0  419.338813        0.0      DoS   \n",
              "4         476  0.000000  3.500055     0  525.146562        0.0   normal   \n",
              "\n",
              "   Target  \n",
              "0       0  \n",
              "1       0  \n",
              "2       0  \n",
              "3       1  \n",
              "4       0  \n",
              "\n",
              "[5 rows x 49 columns]"
            ],
            "text/html": [
              "\n",
              "  <div id=\"df-fa0eaf14-180f-4ca8-a3e9-46dd63c9ad48\">\n",
              "    <div class=\"colab-df-container\">\n",
              "      <div>\n",
              "<style scoped>\n",
              "    .dataframe tbody tr th:only-of-type {\n",
              "        vertical-align: middle;\n",
              "    }\n",
              "\n",
              "    .dataframe tbody tr th {\n",
              "        vertical-align: top;\n",
              "    }\n",
              "\n",
              "    .dataframe thead th {\n",
              "        text-align: right;\n",
              "    }\n",
              "</style>\n",
              "<table border=\"1\" class=\"dataframe\">\n",
              "  <thead>\n",
              "    <tr style=\"text-align: right;\">\n",
              "      <th></th>\n",
              "      <th>StartTime</th>\n",
              "      <th>LastTime</th>\n",
              "      <th>SrcAddr</th>\n",
              "      <th>DstAddr</th>\n",
              "      <th>Mean</th>\n",
              "      <th>Sport</th>\n",
              "      <th>Dport</th>\n",
              "      <th>SrcPkts</th>\n",
              "      <th>DstPkts</th>\n",
              "      <th>TotPkts</th>\n",
              "      <th>...</th>\n",
              "      <th>SAppBytes</th>\n",
              "      <th>DAppBytes</th>\n",
              "      <th>TotAppByte</th>\n",
              "      <th>SynAck</th>\n",
              "      <th>RunTime</th>\n",
              "      <th>sTos</th>\n",
              "      <th>SrcJitAct</th>\n",
              "      <th>DstJitAct</th>\n",
              "      <th>Traffic</th>\n",
              "      <th>Target</th>\n",
              "    </tr>\n",
              "  </thead>\n",
              "  <tbody>\n",
              "    <tr>\n",
              "      <th>0</th>\n",
              "      <td>2019-08-19 12:23:28</td>\n",
              "      <td>2019-08-19 12:23:28</td>\n",
              "      <td>192.168.0.20</td>\n",
              "      <td>192.168.0.2</td>\n",
              "      <td>0</td>\n",
              "      <td>59034</td>\n",
              "      <td>502</td>\n",
              "      <td>10</td>\n",
              "      <td>8</td>\n",
              "      <td>18</td>\n",
              "      <td>...</td>\n",
              "      <td>24</td>\n",
              "      <td>20</td>\n",
              "      <td>44</td>\n",
              "      <td>0.001176</td>\n",
              "      <td>0.053037</td>\n",
              "      <td>0</td>\n",
              "      <td>0.000000</td>\n",
              "      <td>0.0</td>\n",
              "      <td>normal</td>\n",
              "      <td>0</td>\n",
              "    </tr>\n",
              "    <tr>\n",
              "      <th>1</th>\n",
              "      <td>2019-08-19 15:13:24</td>\n",
              "      <td>2019-08-19 15:13:24</td>\n",
              "      <td>192.168.0.20</td>\n",
              "      <td>192.168.0.2</td>\n",
              "      <td>0</td>\n",
              "      <td>55841</td>\n",
              "      <td>502</td>\n",
              "      <td>10</td>\n",
              "      <td>8</td>\n",
              "      <td>18</td>\n",
              "      <td>...</td>\n",
              "      <td>24</td>\n",
              "      <td>20</td>\n",
              "      <td>44</td>\n",
              "      <td>0.001308</td>\n",
              "      <td>0.052681</td>\n",
              "      <td>0</td>\n",
              "      <td>0.000000</td>\n",
              "      <td>0.0</td>\n",
              "      <td>normal</td>\n",
              "      <td>0</td>\n",
              "    </tr>\n",
              "    <tr>\n",
              "      <th>2</th>\n",
              "      <td>2019-08-19 13:41:31</td>\n",
              "      <td>2019-08-19 13:41:31</td>\n",
              "      <td>192.168.0.20</td>\n",
              "      <td>192.168.0.2</td>\n",
              "      <td>0</td>\n",
              "      <td>63774</td>\n",
              "      <td>502</td>\n",
              "      <td>10</td>\n",
              "      <td>8</td>\n",
              "      <td>18</td>\n",
              "      <td>...</td>\n",
              "      <td>24</td>\n",
              "      <td>20</td>\n",
              "      <td>44</td>\n",
              "      <td>0.000690</td>\n",
              "      <td>0.051793</td>\n",
              "      <td>0</td>\n",
              "      <td>0.000000</td>\n",
              "      <td>0.0</td>\n",
              "      <td>normal</td>\n",
              "      <td>0</td>\n",
              "    </tr>\n",
              "    <tr>\n",
              "      <th>3</th>\n",
              "      <td>2019-08-19 12:43:19</td>\n",
              "      <td>2019-08-19 12:43:20</td>\n",
              "      <td>209.240.235.92</td>\n",
              "      <td>192.168.0.2</td>\n",
              "      <td>0</td>\n",
              "      <td>61771</td>\n",
              "      <td>80</td>\n",
              "      <td>4</td>\n",
              "      <td>0</td>\n",
              "      <td>4</td>\n",
              "      <td>...</td>\n",
              "      <td>0</td>\n",
              "      <td>0</td>\n",
              "      <td>0</td>\n",
              "      <td>0.000000</td>\n",
              "      <td>0.889555</td>\n",
              "      <td>0</td>\n",
              "      <td>419.338813</td>\n",
              "      <td>0.0</td>\n",
              "      <td>DoS</td>\n",
              "      <td>1</td>\n",
              "    </tr>\n",
              "    <tr>\n",
              "      <th>4</th>\n",
              "      <td>2019-08-19 14:49:44</td>\n",
              "      <td>2019-08-19 14:49:48</td>\n",
              "      <td>192.168.0.20</td>\n",
              "      <td>192.168.0.1</td>\n",
              "      <td>3</td>\n",
              "      <td>0</td>\n",
              "      <td>0</td>\n",
              "      <td>14</td>\n",
              "      <td>0</td>\n",
              "      <td>14</td>\n",
              "      <td>...</td>\n",
              "      <td>476</td>\n",
              "      <td>0</td>\n",
              "      <td>476</td>\n",
              "      <td>0.000000</td>\n",
              "      <td>3.500055</td>\n",
              "      <td>0</td>\n",
              "      <td>525.146562</td>\n",
              "      <td>0.0</td>\n",
              "      <td>normal</td>\n",
              "      <td>0</td>\n",
              "    </tr>\n",
              "  </tbody>\n",
              "</table>\n",
              "<p>5 rows × 49 columns</p>\n",
              "</div>\n",
              "      <button class=\"colab-df-convert\" onclick=\"convertToInteractive('df-fa0eaf14-180f-4ca8-a3e9-46dd63c9ad48')\"\n",
              "              title=\"Convert this dataframe to an interactive table.\"\n",
              "              style=\"display:none;\">\n",
              "        \n",
              "  <svg xmlns=\"http://www.w3.org/2000/svg\" height=\"24px\"viewBox=\"0 0 24 24\"\n",
              "       width=\"24px\">\n",
              "    <path d=\"M0 0h24v24H0V0z\" fill=\"none\"/>\n",
              "    <path d=\"M18.56 5.44l.94 2.06.94-2.06 2.06-.94-2.06-.94-.94-2.06-.94 2.06-2.06.94zm-11 1L8.5 8.5l.94-2.06 2.06-.94-2.06-.94L8.5 2.5l-.94 2.06-2.06.94zm10 10l.94 2.06.94-2.06 2.06-.94-2.06-.94-.94-2.06-.94 2.06-2.06.94z\"/><path d=\"M17.41 7.96l-1.37-1.37c-.4-.4-.92-.59-1.43-.59-.52 0-1.04.2-1.43.59L10.3 9.45l-7.72 7.72c-.78.78-.78 2.05 0 2.83L4 21.41c.39.39.9.59 1.41.59.51 0 1.02-.2 1.41-.59l7.78-7.78 2.81-2.81c.8-.78.8-2.07 0-2.86zM5.41 20L4 18.59l7.72-7.72 1.47 1.35L5.41 20z\"/>\n",
              "  </svg>\n",
              "      </button>\n",
              "      \n",
              "  <style>\n",
              "    .colab-df-container {\n",
              "      display:flex;\n",
              "      flex-wrap:wrap;\n",
              "      gap: 12px;\n",
              "    }\n",
              "\n",
              "    .colab-df-convert {\n",
              "      background-color: #E8F0FE;\n",
              "      border: none;\n",
              "      border-radius: 50%;\n",
              "      cursor: pointer;\n",
              "      display: none;\n",
              "      fill: #1967D2;\n",
              "      height: 32px;\n",
              "      padding: 0 0 0 0;\n",
              "      width: 32px;\n",
              "    }\n",
              "\n",
              "    .colab-df-convert:hover {\n",
              "      background-color: #E2EBFA;\n",
              "      box-shadow: 0px 1px 2px rgba(60, 64, 67, 0.3), 0px 1px 3px 1px rgba(60, 64, 67, 0.15);\n",
              "      fill: #174EA6;\n",
              "    }\n",
              "\n",
              "    [theme=dark] .colab-df-convert {\n",
              "      background-color: #3B4455;\n",
              "      fill: #D2E3FC;\n",
              "    }\n",
              "\n",
              "    [theme=dark] .colab-df-convert:hover {\n",
              "      background-color: #434B5C;\n",
              "      box-shadow: 0px 1px 3px 1px rgba(0, 0, 0, 0.15);\n",
              "      filter: drop-shadow(0px 1px 2px rgba(0, 0, 0, 0.3));\n",
              "      fill: #FFFFFF;\n",
              "    }\n",
              "  </style>\n",
              "\n",
              "      <script>\n",
              "        const buttonEl =\n",
              "          document.querySelector('#df-fa0eaf14-180f-4ca8-a3e9-46dd63c9ad48 button.colab-df-convert');\n",
              "        buttonEl.style.display =\n",
              "          google.colab.kernel.accessAllowed ? 'block' : 'none';\n",
              "\n",
              "        async function convertToInteractive(key) {\n",
              "          const element = document.querySelector('#df-fa0eaf14-180f-4ca8-a3e9-46dd63c9ad48');\n",
              "          const dataTable =\n",
              "            await google.colab.kernel.invokeFunction('convertToInteractive',\n",
              "                                                     [key], {});\n",
              "          if (!dataTable) return;\n",
              "\n",
              "          const docLinkHtml = 'Like what you see? Visit the ' +\n",
              "            '<a target=\"_blank\" href=https://colab.research.google.com/notebooks/data_table.ipynb>data table notebook</a>'\n",
              "            + ' to learn more about interactive tables.';\n",
              "          element.innerHTML = '';\n",
              "          dataTable['output_type'] = 'display_data';\n",
              "          await google.colab.output.renderOutput(dataTable, element);\n",
              "          const docLink = document.createElement('div');\n",
              "          docLink.innerHTML = docLinkHtml;\n",
              "          element.appendChild(docLink);\n",
              "        }\n",
              "      </script>\n",
              "    </div>\n",
              "  </div>\n",
              "  "
            ]
          },
          "metadata": {},
          "execution_count": 3
        }
      ]
    },
    {
      "cell_type": "code",
      "source": [
        "from google.colab import drive\n",
        "drive.mount('/content/drive')"
      ],
      "metadata": {
        "colab": {
          "base_uri": "https://localhost:8080/"
        },
        "id": "TpGhVWsrJpB2",
        "outputId": "e4cc436f-1938-4876-831b-f16b3c1736e5"
      },
      "execution_count": null,
      "outputs": [
        {
          "output_type": "stream",
          "name": "stdout",
          "text": [
            "Drive already mounted at /content/drive; to attempt to forcibly remount, call drive.mount(\"/content/drive\", force_remount=True).\n"
          ]
        }
      ]
    },
    {
      "cell_type": "code",
      "metadata": {
        "id": "tMOcnYueLpCl",
        "colab": {
          "base_uri": "https://localhost:8080/",
          "height": 282
        },
        "outputId": "041d4e6d-9e96-46a9-d2b3-725594057aa4"
      },
      "source": [
        " #draw data se\n",
        " import matplotlib.pyplot as plt\n",
        " X=DataSet1['YearsExperience']\n",
        " Y=DataSet1['Salary']\n",
        "plt.scatter(X,Y,label='Salary Data')\n",
        "plt.legend()"
      ],
      "execution_count": null,
      "outputs": [
        {
          "output_type": "execute_result",
          "data": {
            "text/plain": [
              "<matplotlib.legend.Legend at 0x7f78428c3ef0>"
            ]
          },
          "metadata": {
            "tags": []
          },
          "execution_count": 17
        },
        {
          "output_type": "display_data",
          "data": {
            "image/png": "[encoded data removed]",
            "text/plain": [
              "<Figure size 432x288 with 1 Axes>"
            ]
          },
          "metadata": {
            "tags": [],
            "needs_background": "light"
          }
        }
      ]
    },
    {
      "cell_type": "markdown",
      "metadata": {
        "id": "N21r6DCacdOD"
      },
      "source": [
        "*Polynomial Regression*"
      ]
    },
    {
      "cell_type": "code",
      "metadata": {
        "id": "oQrQrJtZNyS8",
        "colab": {
          "base_uri": "https://localhost:8080/",
          "height": 204
        },
        "outputId": "49d174fc-be54-44ca-cb9b-c8ce3bda76ac"
      },
      "source": [
        "DataSet2= pd.read_csv('/content/Gaming_data.csv') \n",
        "DataSet2.head(5)"
      ],
      "execution_count": null,
      "outputs": [
        {
          "output_type": "execute_result",
          "data": {
            "text/html": [
              "<div>\n",
              "<style scoped>\n",
              "    .dataframe tbody tr th:only-of-type {\n",
              "        vertical-align: middle;\n",
              "    }\n",
              "\n",
              "    .dataframe tbody tr th {\n",
              "        vertical-align: top;\n",
              "    }\n",
              "\n",
              "    .dataframe thead th {\n",
              "        text-align: right;\n",
              "    }\n",
              "</style>\n",
              "<table border=\"1\" class=\"dataframe\">\n",
              "  <thead>\n",
              "    <tr style=\"text-align: right;\">\n",
              "      <th></th>\n",
              "      <th>Steps</th>\n",
              "      <th>Points</th>\n",
              "    </tr>\n",
              "  </thead>\n",
              "  <tbody>\n",
              "    <tr>\n",
              "      <th>0</th>\n",
              "      <td>1</td>\n",
              "      <td>45000</td>\n",
              "    </tr>\n",
              "    <tr>\n",
              "      <th>1</th>\n",
              "      <td>2</td>\n",
              "      <td>50000</td>\n",
              "    </tr>\n",
              "    <tr>\n",
              "      <th>2</th>\n",
              "      <td>3</td>\n",
              "      <td>60000</td>\n",
              "    </tr>\n",
              "    <tr>\n",
              "      <th>3</th>\n",
              "      <td>4</td>\n",
              "      <td>80000</td>\n",
              "    </tr>\n",
              "    <tr>\n",
              "      <th>4</th>\n",
              "      <td>5</td>\n",
              "      <td>110000</td>\n",
              "    </tr>\n",
              "  </tbody>\n",
              "</table>\n",
              "</div>"
            ],
            "text/plain": [
              "   Steps  Points\n",
              "0      1   45000\n",
              "1      2   50000\n",
              "2      3   60000\n",
              "3      4   80000\n",
              "4      5  110000"
            ]
          },
          "metadata": {
            "tags": []
          },
          "execution_count": 19
        }
      ]
    },
    {
      "cell_type": "code",
      "metadata": {
        "id": "ntX3OTN8N7R0",
        "colab": {
          "base_uri": "https://localhost:8080/",
          "height": 293
        },
        "outputId": "01407c91-dfb1-43e7-ead8-dfff13d11703"
      },
      "source": [
        " X=DataSet2['Steps']\n",
        " Y=DataSet2['Points']\n",
        " plt.scatter(X,Y, label='Game score')\n",
        " plt.legend()"
      ],
      "execution_count": null,
      "outputs": [
        {
          "output_type": "execute_result",
          "data": {
            "text/plain": [
              "<matplotlib.legend.Legend at 0x7f7842861dd8>"
            ]
          },
          "metadata": {
            "tags": []
          },
          "execution_count": 20
        },
        {
          "output_type": "display_data",
          "data": {
            "image/png": "[encoded data removed]",
            "text/plain": [
              "<Figure size 432x288 with 1 Axes>"
            ]
          },
          "metadata": {
            "tags": [],
            "needs_background": "light"
          }
        }
      ]
    },
    {
      "cell_type": "code",
      "metadata": {
        "id": "yy8Ic-pUPdc_"
      },
      "source": [
        "# try numpy Polynomial Regression:\n",
        "mymodel2 = numpy.poly1d(numpy.polyfit(X,Y, 3))"
      ],
      "execution_count": null,
      "outputs": []
    },
    {
      "cell_type": "code",
      "metadata": {
        "id": "XEwmVsh8Puyf",
        "colab": {
          "base_uri": "https://localhost:8080/",
          "height": 34
        },
        "outputId": "098884b5-024e-4817-d5c7-cdf44c49ea28"
      },
      "source": [
        "# Prediction\n",
        "points = mymodel2(12) \n",
        "print(points)"
      ],
      "execution_count": null,
      "outputs": [
        {
          "output_type": "stream",
          "text": [
            "2175030.3030303\n"
          ],
          "name": "stdout"
        }
      ]
    },
    {
      "cell_type": "code",
      "metadata": {
        "id": "Cov9NpF5RoEW"
      },
      "source": [
        "# Polynomial Regression using sklearn # Importing libraries\n",
        "import numpy as np\n",
        "import pandas as pd\n",
        "import matplotlib.pyplot as plt"
      ],
      "execution_count": null,
      "outputs": []
    },
    {
      "cell_type": "code",
      "metadata": {
        "id": "xUXfDRwSZwKQ",
        "colab": {
          "base_uri": "https://localhost:8080/",
          "height": 34
        },
        "outputId": "0d81592d-336e-4348-ca61-163431cc93ab"
      },
      "source": [
        "# Importing dataset\n",
        "dataset3 = pd.read_csv(\"/content/Gaming_data.csv\" ) \n",
        "X1 = dataset3.iloc[:, 0:1].values\n",
        "Y1 = dataset3.iloc[:, 1].values\n",
        "X1.shape"
      ],
      "execution_count": null,
      "outputs": [
        {
          "output_type": "execute_result",
          "data": {
            "text/plain": [
              "(10, 1)"
            ]
          },
          "metadata": {
            "tags": []
          },
          "execution_count": 64
        }
      ]
    },
    {
      "cell_type": "code",
      "metadata": {
        "id": "2kHW2ee-aaKq",
        "colab": {
          "base_uri": "https://localhost:8080/",
          "height": 34
        },
        "outputId": "928bf67b-d707-4bed-b5e1-9ba5eed134eb"
      },
      "source": [
        "# Fitting Polynomial Regression to dataset\n",
        "from sklearn.preprocessing import PolynomialFeatures\n",
        "from sklearn.linear_model import LinearRegression\n",
        "poly_reg = PolynomialFeatures (degree=4) # Tranforming Tool \n",
        "X_poly = poly_reg.fit_transform(X1)\n",
        "lin_reg2 = LinearRegression( )\n",
        "lin_reg2.fit(X_poly,Y1)"
      ],
      "execution_count": null,
      "outputs": [
        {
          "output_type": "execute_result",
          "data": {
            "text/plain": [
              "LinearRegression(copy_X=True, fit_intercept=True, n_jobs=None, normalize=False)"
            ]
          },
          "metadata": {
            "tags": []
          },
          "execution_count": 66
        }
      ]
    },
    {
      "cell_type": "code",
      "metadata": {
        "id": "s8rcpenra9EF",
        "colab": {
          "base_uri": "https://localhost:8080/",
          "height": 295
        },
        "outputId": "788a8db0-cef1-48d5-e12f-db43c5fcf9dc"
      },
      "source": [
        "# Visualising Polynomial Regression results\n",
        "plt.scatter(X1,Y1)\n",
        "plt.plot(X1,lin_reg2.predict(poly_reg.fit_transform(X1)), color='green')\n",
        "plt.title( 'Gaming Data (Polynomial Regression)') \n",
        "plt.xlabel( 'Gaming Steps' )\n",
        "plt.ylabel( 'Points' )\n",
        "plt.show( )"
      ],
      "execution_count": null,
      "outputs": [
        {
          "output_type": "display_data",
          "data": {
            "image/png": "[encoded data removed]",
            "text/plain": [
              "<Figure size 432x288 with 1 Axes>"
            ]
          },
          "metadata": {
            "tags": [],
            "needs_background": "light"
          }
        }
      ]
    },
    {
      "cell_type": "code",
      "metadata": {
        "id": "L2MW4AnueDEF",
        "colab": {
          "base_uri": "https://localhost:8080/",
          "height": 34
        },
        "outputId": "3ac12f2c-f9be-4037-aec9-193cf46bf632"
      },
      "source": [
        "# Predicting new result with Polynomial_Regression\n",
        "lin_reg2.predict(poly_reg.fit_transform([[11]]))"
      ],
      "execution_count": null,
      "outputs": [
        {
          "output_type": "execute_result",
          "data": {
            "text/plain": [
              "array([1780833.33333359])"
            ]
          },
          "metadata": {
            "tags": []
          },
          "execution_count": 77
        }
      ]
    },
    {
      "cell_type": "markdown",
      "metadata": {
        "id": "NZymjvdcfsDH"
      },
      "source": [
        "Mutli-lianer Regression "
      ]
    },
    {
      "cell_type": "code",
      "metadata": {
        "id": "iOBCFtS2fz6R"
      },
      "source": [
        "# Importing libraries\n",
        "import numpy as np\n",
        "import pandas as pd\n",
        "import matplotlib.pyplot as plt"
      ],
      "execution_count": null,
      "outputs": []
    },
    {
      "cell_type": "code",
      "metadata": {
        "id": "sIIOrW3Af1Xk",
        "colab": {
          "base_uri": "https://localhost:8080/",
          "height": 204
        },
        "outputId": "02cd31de-d9f0-4976-b3d8-ec84654e24cf"
      },
      "source": [
        "# Importing dataset\n",
        "dataset4 = pd.read_csv( '/content/Org_data.csv' ) \n",
        "dataset4.head( )"
      ],
      "execution_count": null,
      "outputs": [
        {
          "output_type": "execute_result",
          "data": {
            "text/html": [
              "<div>\n",
              "<style scoped>\n",
              "    .dataframe tbody tr th:only-of-type {\n",
              "        vertical-align: middle;\n",
              "    }\n",
              "\n",
              "    .dataframe tbody tr th {\n",
              "        vertical-align: top;\n",
              "    }\n",
              "\n",
              "    .dataframe thead th {\n",
              "        text-align: right;\n",
              "    }\n",
              "</style>\n",
              "<table border=\"1\" class=\"dataframe\">\n",
              "  <thead>\n",
              "    <tr style=\"text-align: right;\">\n",
              "      <th></th>\n",
              "      <th>Research</th>\n",
              "      <th>Operation</th>\n",
              "      <th>Marketing</th>\n",
              "      <th>State</th>\n",
              "      <th>Profit</th>\n",
              "    </tr>\n",
              "  </thead>\n",
              "  <tbody>\n",
              "    <tr>\n",
              "      <th>0</th>\n",
              "      <td>165349.20</td>\n",
              "      <td>136897.80</td>\n",
              "      <td>471784.10</td>\n",
              "      <td>New York</td>\n",
              "      <td>192261.83</td>\n",
              "    </tr>\n",
              "    <tr>\n",
              "      <th>1</th>\n",
              "      <td>162597.70</td>\n",
              "      <td>151377.59</td>\n",
              "      <td>443898.53</td>\n",
              "      <td>California</td>\n",
              "      <td>191792.06</td>\n",
              "    </tr>\n",
              "    <tr>\n",
              "      <th>2</th>\n",
              "      <td>153441.51</td>\n",
              "      <td>101145.55</td>\n",
              "      <td>407934.54</td>\n",
              "      <td>Florida</td>\n",
              "      <td>191050.39</td>\n",
              "    </tr>\n",
              "    <tr>\n",
              "      <th>3</th>\n",
              "      <td>144372.41</td>\n",
              "      <td>118671.85</td>\n",
              "      <td>383199.62</td>\n",
              "      <td>New York</td>\n",
              "      <td>182901.99</td>\n",
              "    </tr>\n",
              "    <tr>\n",
              "      <th>4</th>\n",
              "      <td>142107.34</td>\n",
              "      <td>91391.77</td>\n",
              "      <td>366168.42</td>\n",
              "      <td>Florida</td>\n",
              "      <td>166187.94</td>\n",
              "    </tr>\n",
              "  </tbody>\n",
              "</table>\n",
              "</div>"
            ],
            "text/plain": [
              "    Research  Operation  Marketing       State     Profit\n",
              "0  165349.20  136897.80  471784.10    New York  192261.83\n",
              "1  162597.70  151377.59  443898.53  California  191792.06\n",
              "2  153441.51  101145.55  407934.54     Florida  191050.39\n",
              "3  144372.41  118671.85  383199.62    New York  182901.99\n",
              "4  142107.34   91391.77  366168.42     Florida  166187.94"
            ]
          },
          "metadata": {
            "tags": []
          },
          "execution_count": 78
        }
      ]
    },
    {
      "cell_type": "code",
      "metadata": {
        "id": "l0MkJGq4hHnd",
        "colab": {
          "base_uri": "https://localhost:8080/",
          "height": 204
        },
        "outputId": "26c7f640-34ba-4a15-c468-0f60f4b0e7ca"
      },
      "source": [
        "# Prepare for Coding\n",
        "# prepare for encoding ( inplace )\n",
        "dataset4['State']=dataset4['State'].astype(str) # convert to string data type \n",
        "dataset4.head( )"
      ],
      "execution_count": null,
      "outputs": [
        {
          "output_type": "execute_result",
          "data": {
            "text/html": [
              "<div>\n",
              "<style scoped>\n",
              "    .dataframe tbody tr th:only-of-type {\n",
              "        vertical-align: middle;\n",
              "    }\n",
              "\n",
              "    .dataframe tbody tr th {\n",
              "        vertical-align: top;\n",
              "    }\n",
              "\n",
              "    .dataframe thead th {\n",
              "        text-align: right;\n",
              "    }\n",
              "</style>\n",
              "<table border=\"1\" class=\"dataframe\">\n",
              "  <thead>\n",
              "    <tr style=\"text-align: right;\">\n",
              "      <th></th>\n",
              "      <th>Research</th>\n",
              "      <th>Operation</th>\n",
              "      <th>Marketing</th>\n",
              "      <th>State</th>\n",
              "      <th>Profit</th>\n",
              "    </tr>\n",
              "  </thead>\n",
              "  <tbody>\n",
              "    <tr>\n",
              "      <th>0</th>\n",
              "      <td>165349.20</td>\n",
              "      <td>136897.80</td>\n",
              "      <td>471784.10</td>\n",
              "      <td>New York</td>\n",
              "      <td>192261.83</td>\n",
              "    </tr>\n",
              "    <tr>\n",
              "      <th>1</th>\n",
              "      <td>162597.70</td>\n",
              "      <td>151377.59</td>\n",
              "      <td>443898.53</td>\n",
              "      <td>California</td>\n",
              "      <td>191792.06</td>\n",
              "    </tr>\n",
              "    <tr>\n",
              "      <th>2</th>\n",
              "      <td>153441.51</td>\n",
              "      <td>101145.55</td>\n",
              "      <td>407934.54</td>\n",
              "      <td>Florida</td>\n",
              "      <td>191050.39</td>\n",
              "    </tr>\n",
              "    <tr>\n",
              "      <th>3</th>\n",
              "      <td>144372.41</td>\n",
              "      <td>118671.85</td>\n",
              "      <td>383199.62</td>\n",
              "      <td>New York</td>\n",
              "      <td>182901.99</td>\n",
              "    </tr>\n",
              "    <tr>\n",
              "      <th>4</th>\n",
              "      <td>142107.34</td>\n",
              "      <td>91391.77</td>\n",
              "      <td>366168.42</td>\n",
              "      <td>Florida</td>\n",
              "      <td>166187.94</td>\n",
              "    </tr>\n",
              "  </tbody>\n",
              "</table>\n",
              "</div>"
            ],
            "text/plain": [
              "    Research  Operation  Marketing       State     Profit\n",
              "0  165349.20  136897.80  471784.10    New York  192261.83\n",
              "1  162597.70  151377.59  443898.53  California  191792.06\n",
              "2  153441.51  101145.55  407934.54     Florida  191050.39\n",
              "3  144372.41  118671.85  383199.62    New York  182901.99\n",
              "4  142107.34   91391.77  366168.42     Florida  166187.94"
            ]
          },
          "metadata": {
            "tags": []
          },
          "execution_count": 88
        }
      ]
    },
    {
      "cell_type": "code",
      "metadata": {
        "id": "P60MKR-xh8ku",
        "colab": {
          "base_uri": "https://localhost:8080/",
          "height": 204
        },
        "outputId": "10e4f905-001a-48ba-c1ce-876cf7dfb499"
      },
      "source": [
        "#abel encoding (inplace)\n",
        "from sklearn.preprocessing import LabelEncoder\n",
        "Ib_make = LabelEncoder( )\n",
        "dataset4['State']=Ib_make.fit_transform(dataset4['State'])\n",
        "dataset4.head()"
      ],
      "execution_count": null,
      "outputs": [
        {
          "output_type": "execute_result",
          "data": {
            "text/html": [
              "<div>\n",
              "<style scoped>\n",
              "    .dataframe tbody tr th:only-of-type {\n",
              "        vertical-align: middle;\n",
              "    }\n",
              "\n",
              "    .dataframe tbody tr th {\n",
              "        vertical-align: top;\n",
              "    }\n",
              "\n",
              "    .dataframe thead th {\n",
              "        text-align: right;\n",
              "    }\n",
              "</style>\n",
              "<table border=\"1\" class=\"dataframe\">\n",
              "  <thead>\n",
              "    <tr style=\"text-align: right;\">\n",
              "      <th></th>\n",
              "      <th>Research</th>\n",
              "      <th>Operation</th>\n",
              "      <th>Marketing</th>\n",
              "      <th>State</th>\n",
              "      <th>Profit</th>\n",
              "    </tr>\n",
              "  </thead>\n",
              "  <tbody>\n",
              "    <tr>\n",
              "      <th>0</th>\n",
              "      <td>165349.20</td>\n",
              "      <td>136897.80</td>\n",
              "      <td>471784.10</td>\n",
              "      <td>2</td>\n",
              "      <td>192261.83</td>\n",
              "    </tr>\n",
              "    <tr>\n",
              "      <th>1</th>\n",
              "      <td>162597.70</td>\n",
              "      <td>151377.59</td>\n",
              "      <td>443898.53</td>\n",
              "      <td>0</td>\n",
              "      <td>191792.06</td>\n",
              "    </tr>\n",
              "    <tr>\n",
              "      <th>2</th>\n",
              "      <td>153441.51</td>\n",
              "      <td>101145.55</td>\n",
              "      <td>407934.54</td>\n",
              "      <td>1</td>\n",
              "      <td>191050.39</td>\n",
              "    </tr>\n",
              "    <tr>\n",
              "      <th>3</th>\n",
              "      <td>144372.41</td>\n",
              "      <td>118671.85</td>\n",
              "      <td>383199.62</td>\n",
              "      <td>2</td>\n",
              "      <td>182901.99</td>\n",
              "    </tr>\n",
              "    <tr>\n",
              "      <th>4</th>\n",
              "      <td>142107.34</td>\n",
              "      <td>91391.77</td>\n",
              "      <td>366168.42</td>\n",
              "      <td>1</td>\n",
              "      <td>166187.94</td>\n",
              "    </tr>\n",
              "  </tbody>\n",
              "</table>\n",
              "</div>"
            ],
            "text/plain": [
              "    Research  Operation  Marketing  State     Profit\n",
              "0  165349.20  136897.80  471784.10      2  192261.83\n",
              "1  162597.70  151377.59  443898.53      0  191792.06\n",
              "2  153441.51  101145.55  407934.54      1  191050.39\n",
              "3  144372.41  118671.85  383199.62      2  182901.99\n",
              "4  142107.34   91391.77  366168.42      1  166187.94"
            ]
          },
          "metadata": {
            "tags": []
          },
          "execution_count": 91
        }
      ]
    },
    {
      "cell_type": "code",
      "metadata": {
        "id": "UNC2eWAfjm-h",
        "colab": {
          "base_uri": "https://localhost:8080/",
          "height": 51
        },
        "outputId": "e8464b65-ec1b-4bf8-d946-43f5fcbb84f8"
      },
      "source": [
        "# Specify X and Y\n",
        "X2=dataset4.iloc[:, :-1].values \n",
        "Y2=dataset4.iloc[:, 4].values\n",
        "print(dataset4.iloc[[0]])"
      ],
      "execution_count": null,
      "outputs": [
        {
          "output_type": "stream",
          "text": [
            "   Research  Operation  Marketing  State     Profit\n",
            "0  165349.2   136897.8   471784.1      2  192261.83\n"
          ],
          "name": "stdout"
        }
      ]
    },
    {
      "cell_type": "code",
      "metadata": {
        "id": "s-i_bI1VkoCn"
      },
      "source": [
        "# Split dataset into train and test set\n",
        "from sklearn.model_selection import train_test_split\n",
        "X_train, X_test, Y_train, Y_test = train_test_split(X2,Y2, test_size=0.20, random_state=0)"
      ],
      "execution_count": null,
      "outputs": []
    },
    {
      "cell_type": "code",
      "metadata": {
        "id": "LXoIbdUlk_YZ",
        "colab": {
          "base_uri": "https://localhost:8080/",
          "height": 34
        },
        "outputId": "a1baa390-0a45-4e8d-9df0-9d4c3535d5cd"
      },
      "source": [
        "# Fitting Multiple Linear Regression to Training set\n",
        "from sklearn.linear_model import LinearRegression\n",
        "regressor = LinearRegression( )\n",
        "regressor.fit(X_train,Y_train)"
      ],
      "execution_count": null,
      "outputs": [
        {
          "output_type": "execute_result",
          "data": {
            "text/plain": [
              "LinearRegression(copy_X=True, fit_intercept=True, n_jobs=None, normalize=False)"
            ]
          },
          "metadata": {
            "tags": []
          },
          "execution_count": 95
        }
      ]
    },
    {
      "cell_type": "code",
      "metadata": {
        "id": "_IgdRowulgiF",
        "colab": {
          "base_uri": "https://localhost:8080/",
          "height": 68
        },
        "outputId": "34edf23a-8497-4823-9abe-d343190dc8ab"
      },
      "source": [
        "# Predicting Test set results\n",
        "Y_pred =regressor.predict(X_test )\n",
        "print(Y_pred)"
      ],
      "execution_count": null,
      "outputs": [
        {
          "output_type": "stream",
          "text": [
            "[103959.40508021 132398.73236694 133529.03790148  72958.28368314\n",
            " 179534.78737166 115533.62584099  67476.95847883  98504.36199396\n",
            " 114789.16083781 168972.21909945]\n"
          ],
          "name": "stdout"
        }
      ]
    },
    {
      "cell_type": "code",
      "metadata": {
        "id": "ke2YqKQvmtS8",
        "colab": {
          "base_uri": "https://localhost:8080/",
          "height": 34
        },
        "outputId": "87067b83-76aa-44bb-a77e-672275576940"
      },
      "source": [
        "# Make Prediction on New Data\n",
        "pred1= regressor.predict ([[165349.2, 136897.8, 471784,0]])\n",
        "print(pred1)\n"
      ],
      "execution_count": null,
      "outputs": [
        {
          "output_type": "stream",
          "text": [
            "[191784.72827946]\n"
          ],
          "name": "stdout"
        }
      ]
    }
  ]
}